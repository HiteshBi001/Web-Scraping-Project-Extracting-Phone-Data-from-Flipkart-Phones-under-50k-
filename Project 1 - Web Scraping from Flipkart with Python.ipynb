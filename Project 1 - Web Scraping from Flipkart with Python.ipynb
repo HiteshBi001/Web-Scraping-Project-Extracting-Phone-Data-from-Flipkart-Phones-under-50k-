{
 "cells": [
  {
   "cell_type": "code",
   "execution_count": 15,
   "id": "c2160deb",
   "metadata": {},
   "outputs": [],
   "source": [
    "import pandas as pd\n",
    "import requests\n",
    "from bs4 import BeautifulSoup\n",
    "Product_name=[]\n",
    "Prices=[]\n",
    "Description=[]\n",
    "Rating =[]"
   ]
  },
  {
   "cell_type": "code",
   "execution_count": 16,
   "id": "a9c39214",
   "metadata": {},
   "outputs": [],
   "source": [
    "for i in range(1,11):\n",
    " url =\"https://www.flipkart.com/search?q=mobile+under+30000&as=on&as-show=on&otracker=AS_Query_OrganicAutoSuggest_7_13_na_na_na&otracker1=AS_Query_OrganicAutoSuggest_7_13_na_na_na&as-pos=7&as-type=RECENT&suggestionId=mobile+under+30000&requestId=ee6c8b9b-9b57-4fbe-b4ba-770a30659d12&as-searchtext=mobile+under+30000&page=\"+str(i)\n",
    " r =requests.get(url)\n",
    " soup= BeautifulSoup(r.text,\"lxml\")\n",
    " box=soup.find(\"div\",class_=\"_1YokD2 _3Mn1Gg\")\n",
    "\n",
    " names =box.find_all(\"div\",class_=\"_4rR01T\")\n",
    " for i in names:\n",
    "    name=i.text\n",
    "    Product_name.append(name)\n",
    " Price =box.find_all(\"div\",class_=\"_30jeq3 _1_WHN1\")\n",
    " for i in Price:\n",
    "    name=i.text\n",
    "    Prices.append(name)\n",
    " desc =box.find_all(\"ul\",class_=\"_1xgFaf\")\n",
    " for i in desc:\n",
    "    name=i.text\n",
    "    Description.append(name)\n",
    " rat =box.find_all(\"div\",class_=\"_3LWZlK\")\n",
    " for i in rat:\n",
    "    name=i.text\n",
    "    Rating.append(name)"
   ]
  },
  {
   "cell_type": "code",
   "execution_count": 17,
   "id": "e82bb5aa",
   "metadata": {},
   "outputs": [
    {
     "name": "stdout",
     "output_type": "stream",
     "text": [
      "240\n",
      "240\n",
      "240\n",
      "234\n"
     ]
    }
   ],
   "source": [
    "print(len(Product_name))\n",
    "print(len(Prices))\n",
    "print(len(Description))\n",
    "print(len(Rating))"
   ]
  },
  {
   "cell_type": "code",
   "execution_count": null,
   "id": "52ba3a8a",
   "metadata": {},
   "outputs": [],
   "source": []
  },
  {
   "cell_type": "code",
   "execution_count": 19,
   "id": "9e492bec",
   "metadata": {},
   "outputs": [],
   "source": [
    "max_length = max(len(Product_name), len(Prices), len(Description), len(Rating))"
   ]
  },
  {
   "cell_type": "code",
   "execution_count": 20,
   "id": "c721c93c",
   "metadata": {},
   "outputs": [
    {
     "data": {
      "text/plain": [
       "240"
      ]
     },
     "execution_count": 20,
     "metadata": {},
     "output_type": "execute_result"
    }
   ],
   "source": [
    "max_length"
   ]
  },
  {
   "cell_type": "code",
   "execution_count": 21,
   "id": "d873ac5a",
   "metadata": {},
   "outputs": [],
   "source": [
    "Product_name += [None] * (max_length - len(Product_name))\n",
    "Prices += [None] * (max_length - len(Prices))\n",
    "Description += [None] * (max_length - len(Description))\n",
    "Rating += [None] * (max_length - len(Rating))"
   ]
  },
  {
   "cell_type": "code",
   "execution_count": 22,
   "id": "f9efe335",
   "metadata": {},
   "outputs": [],
   "source": [
    "df = pd.DataFrame({\n",
    "    \"Productname\": Product_name,\n",
    "    \"Price\": Prices,\n",
    "    \"Description\": Description,\n",
    "    \"Rating\": Rating\n",
    "})"
   ]
  },
  {
   "cell_type": "code",
   "execution_count": 23,
   "id": "427ffc72",
   "metadata": {},
   "outputs": [
    {
     "data": {
      "text/html": [
       "<div>\n",
       "<style scoped>\n",
       "    .dataframe tbody tr th:only-of-type {\n",
       "        vertical-align: middle;\n",
       "    }\n",
       "\n",
       "    .dataframe tbody tr th {\n",
       "        vertical-align: top;\n",
       "    }\n",
       "\n",
       "    .dataframe thead th {\n",
       "        text-align: right;\n",
       "    }\n",
       "</style>\n",
       "<table border=\"1\" class=\"dataframe\">\n",
       "  <thead>\n",
       "    <tr style=\"text-align: right;\">\n",
       "      <th></th>\n",
       "      <th>Productname</th>\n",
       "      <th>Price</th>\n",
       "      <th>Description</th>\n",
       "      <th>Rating</th>\n",
       "    </tr>\n",
       "  </thead>\n",
       "  <tbody>\n",
       "    <tr>\n",
       "      <th>0</th>\n",
       "      <td>POCO X5 Pro 5G (Horizon Blue, 256 GB)</td>\n",
       "      <td>₹22,999</td>\n",
       "      <td>8 GB RAM | 256 GB ROM16.94 cm (6.67 inch) Full...</td>\n",
       "      <td>4.3</td>\n",
       "    </tr>\n",
       "    <tr>\n",
       "      <th>1</th>\n",
       "      <td>REDMI Note 12 Pro 5G (Stardust Purple, 128 GB)</td>\n",
       "      <td>₹23,999</td>\n",
       "      <td>6 GB RAM | 128 GB ROM16.94 cm (6.67 inch) Full...</td>\n",
       "      <td>4.2</td>\n",
       "    </tr>\n",
       "    <tr>\n",
       "      <th>2</th>\n",
       "      <td>REDMI Note 12 Pro 5G (Glacier Blue, 128 GB)</td>\n",
       "      <td>₹23,999</td>\n",
       "      <td>6 GB RAM | 128 GB ROM16.94 cm (6.67 inch) Full...</td>\n",
       "      <td>4.2</td>\n",
       "    </tr>\n",
       "    <tr>\n",
       "      <th>3</th>\n",
       "      <td>REDMI Note 12 Pro 5G (Stardust Purple, 128 GB)</td>\n",
       "      <td>₹24,999</td>\n",
       "      <td>8 GB RAM | 128 GB ROM16.94 cm (6.67 inch) Full...</td>\n",
       "      <td>4.2</td>\n",
       "    </tr>\n",
       "    <tr>\n",
       "      <th>4</th>\n",
       "      <td>REDMI Note 12 Pro 5G (Onyx Black, 128 GB)</td>\n",
       "      <td>₹23,999</td>\n",
       "      <td>6 GB RAM | 128 GB ROM16.94 cm (6.67 inch) Full...</td>\n",
       "      <td>4.2</td>\n",
       "    </tr>\n",
       "    <tr>\n",
       "      <th>...</th>\n",
       "      <td>...</td>\n",
       "      <td>...</td>\n",
       "      <td>...</td>\n",
       "      <td>...</td>\n",
       "    </tr>\n",
       "    <tr>\n",
       "      <th>235</th>\n",
       "      <td>Mi 11X (Lunar White, 128 GB)</td>\n",
       "      <td>₹26,999</td>\n",
       "      <td>8 GB RAM | 128 GB ROM16.94 cm (6.67 inch) Full...</td>\n",
       "      <td>None</td>\n",
       "    </tr>\n",
       "    <tr>\n",
       "      <th>236</th>\n",
       "      <td>Xiaomi 11i Hypercharge 5G (Camo Green, 128 GB)</td>\n",
       "      <td>₹28,999</td>\n",
       "      <td>8 GB RAM | 128 GB ROM | Expandable Upto 1 TB16...</td>\n",
       "      <td>None</td>\n",
       "    </tr>\n",
       "    <tr>\n",
       "      <th>237</th>\n",
       "      <td>IQOO Z6 Pro 5G (Phantom Dusk, 256 GB)</td>\n",
       "      <td>₹28,390</td>\n",
       "      <td>12 GB RAM | 256 GB ROM16.36 cm (6.44 inch) Dis...</td>\n",
       "      <td>None</td>\n",
       "    </tr>\n",
       "    <tr>\n",
       "      <th>238</th>\n",
       "      <td>SAMSUNG Galaxy A33 (Awesome Blue, 128 GB)</td>\n",
       "      <td>₹25,999</td>\n",
       "      <td>6 GB RAM | 128 GB ROM | Expandable Upto 1 TB16...</td>\n",
       "      <td>None</td>\n",
       "    </tr>\n",
       "    <tr>\n",
       "      <th>239</th>\n",
       "      <td>IQOO Neo 6 5G (Cyber Rage, 128 GB)</td>\n",
       "      <td>₹28,499</td>\n",
       "      <td>8 GB RAM | 128 GB ROM16.81 cm (6.62 inch) Disp...</td>\n",
       "      <td>None</td>\n",
       "    </tr>\n",
       "  </tbody>\n",
       "</table>\n",
       "<p>240 rows × 4 columns</p>\n",
       "</div>"
      ],
      "text/plain": [
       "                                        Productname    Price  \\\n",
       "0             POCO X5 Pro 5G (Horizon Blue, 256 GB)  ₹22,999   \n",
       "1    REDMI Note 12 Pro 5G (Stardust Purple, 128 GB)  ₹23,999   \n",
       "2       REDMI Note 12 Pro 5G (Glacier Blue, 128 GB)  ₹23,999   \n",
       "3    REDMI Note 12 Pro 5G (Stardust Purple, 128 GB)  ₹24,999   \n",
       "4         REDMI Note 12 Pro 5G (Onyx Black, 128 GB)  ₹23,999   \n",
       "..                                              ...      ...   \n",
       "235                    Mi 11X (Lunar White, 128 GB)  ₹26,999   \n",
       "236  Xiaomi 11i Hypercharge 5G (Camo Green, 128 GB)  ₹28,999   \n",
       "237           IQOO Z6 Pro 5G (Phantom Dusk, 256 GB)  ₹28,390   \n",
       "238       SAMSUNG Galaxy A33 (Awesome Blue, 128 GB)  ₹25,999   \n",
       "239              IQOO Neo 6 5G (Cyber Rage, 128 GB)  ₹28,499   \n",
       "\n",
       "                                           Description Rating  \n",
       "0    8 GB RAM | 256 GB ROM16.94 cm (6.67 inch) Full...    4.3  \n",
       "1    6 GB RAM | 128 GB ROM16.94 cm (6.67 inch) Full...    4.2  \n",
       "2    6 GB RAM | 128 GB ROM16.94 cm (6.67 inch) Full...    4.2  \n",
       "3    8 GB RAM | 128 GB ROM16.94 cm (6.67 inch) Full...    4.2  \n",
       "4    6 GB RAM | 128 GB ROM16.94 cm (6.67 inch) Full...    4.2  \n",
       "..                                                 ...    ...  \n",
       "235  8 GB RAM | 128 GB ROM16.94 cm (6.67 inch) Full...   None  \n",
       "236  8 GB RAM | 128 GB ROM | Expandable Upto 1 TB16...   None  \n",
       "237  12 GB RAM | 256 GB ROM16.36 cm (6.44 inch) Dis...   None  \n",
       "238  6 GB RAM | 128 GB ROM | Expandable Upto 1 TB16...   None  \n",
       "239  8 GB RAM | 128 GB ROM16.81 cm (6.62 inch) Disp...   None  \n",
       "\n",
       "[240 rows x 4 columns]"
      ]
     },
     "execution_count": 23,
     "metadata": {},
     "output_type": "execute_result"
    }
   ],
   "source": [
    "df"
   ]
  },
  {
   "cell_type": "code",
   "execution_count": 24,
   "id": "ed386a60",
   "metadata": {},
   "outputs": [],
   "source": [
    "df.to_csv(\"D:/aa/new.csv\")"
   ]
  },
  {
   "cell_type": "code",
   "execution_count": null,
   "id": "a426872b",
   "metadata": {},
   "outputs": [],
   "source": []
  },
  {
   "cell_type": "code",
   "execution_count": null,
   "id": "8f5f2e40",
   "metadata": {},
   "outputs": [],
   "source": []
  }
 ],
 "metadata": {
  "kernelspec": {
   "display_name": "Python 3 (ipykernel)",
   "language": "python",
   "name": "python3"
  },
  "language_info": {
   "codemirror_mode": {
    "name": "ipython",
    "version": 3
   },
   "file_extension": ".py",
   "mimetype": "text/x-python",
   "name": "python",
   "nbconvert_exporter": "python",
   "pygments_lexer": "ipython3",
   "version": "3.10.9"
  }
 },
 "nbformat": 4,
 "nbformat_minor": 5
}
